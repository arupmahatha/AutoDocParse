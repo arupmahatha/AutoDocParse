{
 "cells": [
  {
   "cell_type": "code",
   "execution_count": null,
   "metadata": {
    "colab": {
     "base_uri": "https://localhost:8080/"
    },
    "executionInfo": {
     "elapsed": 18649,
     "status": "ok",
     "timestamp": 1708709106274,
     "user": {
      "displayName": "Kush Motwani",
      "userId": "15787970395115211373"
     },
     "user_tz": -330
    },
    "id": "M783_fa9_zz1",
    "outputId": "475243d2-3921-4698-acc1-00fbf4827984"
   },
   "outputs": [
    {
     "name": "stdout",
     "output_type": "stream",
     "text": [
      "Collecting azure-ai-formrecognizer\n",
      "  Downloading azure_ai_formrecognizer-3.3.2-py3-none-any.whl (300 kB)\n",
      "\u001b[2K     \u001b[90m━━━━━━━━━━━━━━━━━━━━━━━━━━━━━━━━━━━━━━━━\u001b[0m \u001b[32m300.1/300.1 kB\u001b[0m \u001b[31m5.6 MB/s\u001b[0m eta \u001b[36m0:00:00\u001b[0m\n",
      "\u001b[?25hCollecting azure-core<2.0.0,>=1.23.0 (from azure-ai-formrecognizer)\n",
      "  Downloading azure_core-1.30.0-py3-none-any.whl (193 kB)\n",
      "\u001b[2K     \u001b[90m━━━━━━━━━━━━━━━━━━━━━━━━━━━━━━━━━━━━━━━━\u001b[0m \u001b[32m193.4/193.4 kB\u001b[0m \u001b[31m20.7 MB/s\u001b[0m eta \u001b[36m0:00:00\u001b[0m\n",
      "\u001b[?25hCollecting msrest>=0.6.21 (from azure-ai-formrecognizer)\n",
      "  Downloading msrest-0.7.1-py3-none-any.whl (85 kB)\n",
      "\u001b[2K     \u001b[90m━━━━━━━━━━━━━━━━━━━━━━━━━━━━━━━━━━━━━━━━\u001b[0m \u001b[32m85.4/85.4 kB\u001b[0m \u001b[31m11.1 MB/s\u001b[0m eta \u001b[36m0:00:00\u001b[0m\n",
      "\u001b[?25hCollecting azure-common~=1.1 (from azure-ai-formrecognizer)\n",
      "  Downloading azure_common-1.1.28-py2.py3-none-any.whl (14 kB)\n",
      "Requirement already satisfied: typing-extensions>=4.0.1 in /usr/local/lib/python3.10/dist-packages (from azure-ai-formrecognizer) (4.9.0)\n",
      "Requirement already satisfied: requests>=2.21.0 in /usr/local/lib/python3.10/dist-packages (from azure-core<2.0.0,>=1.23.0->azure-ai-formrecognizer) (2.31.0)\n",
      "Requirement already satisfied: six>=1.11.0 in /usr/local/lib/python3.10/dist-packages (from azure-core<2.0.0,>=1.23.0->azure-ai-formrecognizer) (1.16.0)\n",
      "Requirement already satisfied: certifi>=2017.4.17 in /usr/local/lib/python3.10/dist-packages (from msrest>=0.6.21->azure-ai-formrecognizer) (2024.2.2)\n",
      "Collecting isodate>=0.6.0 (from msrest>=0.6.21->azure-ai-formrecognizer)\n",
      "  Downloading isodate-0.6.1-py2.py3-none-any.whl (41 kB)\n",
      "\u001b[2K     \u001b[90m━━━━━━━━━━━━━━━━━━━━━━━━━━━━━━━━━━━━━━━━\u001b[0m \u001b[32m41.7/41.7 kB\u001b[0m \u001b[31m4.0 MB/s\u001b[0m eta \u001b[36m0:00:00\u001b[0m\n",
      "\u001b[?25hRequirement already satisfied: requests-oauthlib>=0.5.0 in /usr/local/lib/python3.10/dist-packages (from msrest>=0.6.21->azure-ai-formrecognizer) (1.3.1)\n",
      "Requirement already satisfied: charset-normalizer<4,>=2 in /usr/local/lib/python3.10/dist-packages (from requests>=2.21.0->azure-core<2.0.0,>=1.23.0->azure-ai-formrecognizer) (3.3.2)\n",
      "Requirement already satisfied: idna<4,>=2.5 in /usr/local/lib/python3.10/dist-packages (from requests>=2.21.0->azure-core<2.0.0,>=1.23.0->azure-ai-formrecognizer) (3.6)\n",
      "Requirement already satisfied: urllib3<3,>=1.21.1 in /usr/local/lib/python3.10/dist-packages (from requests>=2.21.0->azure-core<2.0.0,>=1.23.0->azure-ai-formrecognizer) (2.0.7)\n",
      "Requirement already satisfied: oauthlib>=3.0.0 in /usr/local/lib/python3.10/dist-packages (from requests-oauthlib>=0.5.0->msrest>=0.6.21->azure-ai-formrecognizer) (3.2.2)\n",
      "Installing collected packages: azure-common, isodate, azure-core, msrest, azure-ai-formrecognizer\n",
      "Successfully installed azure-ai-formrecognizer-3.3.2 azure-common-1.1.28 azure-core-1.30.0 isodate-0.6.1 msrest-0.7.1\n",
      "Requirement already satisfied: google-colab in /usr/local/lib/python3.10/dist-packages (1.0.0)\n",
      "Requirement already satisfied: google-auth==2.27.0 in /usr/local/lib/python3.10/dist-packages (from google-colab) (2.27.0)\n",
      "Requirement already satisfied: ipykernel==5.5.6 in /usr/local/lib/python3.10/dist-packages (from google-colab) (5.5.6)\n",
      "Requirement already satisfied: ipython==7.34.0 in /usr/local/lib/python3.10/dist-packages (from google-colab) (7.34.0)\n",
      "Requirement already satisfied: notebook==6.5.5 in /usr/local/lib/python3.10/dist-packages (from google-colab) (6.5.5)\n",
      "Requirement already satisfied: pandas==1.5.3 in /usr/local/lib/python3.10/dist-packages (from google-colab) (1.5.3)\n",
      "Requirement already satisfied: portpicker==1.5.2 in /usr/local/lib/python3.10/dist-packages (from google-colab) (1.5.2)\n",
      "Requirement already satisfied: requests==2.31.0 in /usr/local/lib/python3.10/dist-packages (from google-colab) (2.31.0)\n",
      "Requirement already satisfied: tornado==6.3.2 in /usr/local/lib/python3.10/dist-packages (from google-colab) (6.3.2)\n",
      "Requirement already satisfied: cachetools<6.0,>=2.0.0 in /usr/local/lib/python3.10/dist-packages (from google-auth==2.27.0->google-colab) (5.3.2)\n",
      "Requirement already satisfied: pyasn1-modules>=0.2.1 in /usr/local/lib/python3.10/dist-packages (from google-auth==2.27.0->google-colab) (0.3.0)\n",
      "Requirement already satisfied: rsa<5,>=3.1.4 in /usr/local/lib/python3.10/dist-packages (from google-auth==2.27.0->google-colab) (4.9)\n",
      "Requirement already satisfied: ipython-genutils in /usr/local/lib/python3.10/dist-packages (from ipykernel==5.5.6->google-colab) (0.2.0)\n",
      "Requirement already satisfied: traitlets>=4.1.0 in /usr/local/lib/python3.10/dist-packages (from ipykernel==5.5.6->google-colab) (5.7.1)\n",
      "Requirement already satisfied: jupyter-client in /usr/local/lib/python3.10/dist-packages (from ipykernel==5.5.6->google-colab) (6.1.12)\n",
      "Requirement already satisfied: setuptools>=18.5 in /usr/local/lib/python3.10/dist-packages (from ipython==7.34.0->google-colab) (67.7.2)\n",
      "Collecting jedi>=0.16 (from ipython==7.34.0->google-colab)\n",
      "  Downloading jedi-0.19.1-py2.py3-none-any.whl (1.6 MB)\n",
      "\u001b[2K     \u001b[90m━━━━━━━━━━━━━━━━━━━━━━━━━━━━━━━━━━━━━━━━\u001b[0m \u001b[32m1.6/1.6 MB\u001b[0m \u001b[31m10.7 MB/s\u001b[0m eta \u001b[36m0:00:00\u001b[0m\n",
      "\u001b[?25hRequirement already satisfied: decorator in /usr/local/lib/python3.10/dist-packages (from ipython==7.34.0->google-colab) (4.4.2)\n",
      "Requirement already satisfied: pickleshare in /usr/local/lib/python3.10/dist-packages (from ipython==7.34.0->google-colab) (0.7.5)\n",
      "Requirement already satisfied: prompt-toolkit!=3.0.0,!=3.0.1,<3.1.0,>=2.0.0 in /usr/local/lib/python3.10/dist-packages (from ipython==7.34.0->google-colab) (3.0.43)\n",
      "Requirement already satisfied: pygments in /usr/local/lib/python3.10/dist-packages (from ipython==7.34.0->google-colab) (2.16.1)\n",
      "Requirement already satisfied: backcall in /usr/local/lib/python3.10/dist-packages (from ipython==7.34.0->google-colab) (0.2.0)\n",
      "Requirement already satisfied: matplotlib-inline in /usr/local/lib/python3.10/dist-packages (from ipython==7.34.0->google-colab) (0.1.6)\n",
      "Requirement already satisfied: pexpect>4.3 in /usr/local/lib/python3.10/dist-packages (from ipython==7.34.0->google-colab) (4.9.0)\n",
      "Requirement already satisfied: jinja2 in /usr/local/lib/python3.10/dist-packages (from notebook==6.5.5->google-colab) (3.1.3)\n",
      "Requirement already satisfied: pyzmq<25,>=17 in /usr/local/lib/python3.10/dist-packages (from notebook==6.5.5->google-colab) (23.2.1)\n",
      "Requirement already satisfied: argon2-cffi in /usr/local/lib/python3.10/dist-packages (from notebook==6.5.5->google-colab) (23.1.0)\n",
      "Requirement already satisfied: jupyter-core>=4.6.1 in /usr/local/lib/python3.10/dist-packages (from notebook==6.5.5->google-colab) (5.7.1)\n",
      "Requirement already satisfied: nbformat in /usr/local/lib/python3.10/dist-packages (from notebook==6.5.5->google-colab) (5.9.2)\n",
      "Requirement already satisfied: nbconvert>=5 in /usr/local/lib/python3.10/dist-packages (from notebook==6.5.5->google-colab) (6.5.4)\n",
      "Requirement already satisfied: nest-asyncio>=1.5 in /usr/local/lib/python3.10/dist-packages (from notebook==6.5.5->google-colab) (1.6.0)\n",
      "Requirement already satisfied: Send2Trash>=1.8.0 in /usr/local/lib/python3.10/dist-packages (from notebook==6.5.5->google-colab) (1.8.2)\n",
      "Requirement already satisfied: terminado>=0.8.3 in /usr/local/lib/python3.10/dist-packages (from notebook==6.5.5->google-colab) (0.18.0)\n",
      "Requirement already satisfied: prometheus-client in /usr/local/lib/python3.10/dist-packages (from notebook==6.5.5->google-colab) (0.20.0)\n",
      "Requirement already satisfied: nbclassic>=0.4.7 in /usr/local/lib/python3.10/dist-packages (from notebook==6.5.5->google-colab) (1.0.0)\n",
      "Requirement already satisfied: python-dateutil>=2.8.1 in /usr/local/lib/python3.10/dist-packages (from pandas==1.5.3->google-colab) (2.8.2)\n",
      "Requirement already satisfied: pytz>=2020.1 in /usr/local/lib/python3.10/dist-packages (from pandas==1.5.3->google-colab) (2023.4)\n",
      "Requirement already satisfied: numpy>=1.21.0 in /usr/local/lib/python3.10/dist-packages (from pandas==1.5.3->google-colab) (1.25.2)\n",
      "Requirement already satisfied: psutil in /usr/local/lib/python3.10/dist-packages (from portpicker==1.5.2->google-colab) (5.9.5)\n",
      "Requirement already satisfied: charset-normalizer<4,>=2 in /usr/local/lib/python3.10/dist-packages (from requests==2.31.0->google-colab) (3.3.2)\n",
      "Requirement already satisfied: idna<4,>=2.5 in /usr/local/lib/python3.10/dist-packages (from requests==2.31.0->google-colab) (3.6)\n",
      "Requirement already satisfied: urllib3<3,>=1.21.1 in /usr/local/lib/python3.10/dist-packages (from requests==2.31.0->google-colab) (2.0.7)\n",
      "Requirement already satisfied: certifi>=2017.4.17 in /usr/local/lib/python3.10/dist-packages (from requests==2.31.0->google-colab) (2024.2.2)\n",
      "Requirement already satisfied: parso<0.9.0,>=0.8.3 in /usr/local/lib/python3.10/dist-packages (from jedi>=0.16->ipython==7.34.0->google-colab) (0.8.3)\n",
      "Requirement already satisfied: platformdirs>=2.5 in /usr/local/lib/python3.10/dist-packages (from jupyter-core>=4.6.1->notebook==6.5.5->google-colab) (4.2.0)\n",
      "Requirement already satisfied: jupyter-server>=1.8 in /usr/local/lib/python3.10/dist-packages (from nbclassic>=0.4.7->notebook==6.5.5->google-colab) (1.24.0)\n",
      "Requirement already satisfied: notebook-shim>=0.2.3 in /usr/local/lib/python3.10/dist-packages (from nbclassic>=0.4.7->notebook==6.5.5->google-colab) (0.2.4)\n",
      "Requirement already satisfied: lxml in /usr/local/lib/python3.10/dist-packages (from nbconvert>=5->notebook==6.5.5->google-colab) (4.9.4)\n",
      "Requirement already satisfied: beautifulsoup4 in /usr/local/lib/python3.10/dist-packages (from nbconvert>=5->notebook==6.5.5->google-colab) (4.12.3)\n",
      "Requirement already satisfied: bleach in /usr/local/lib/python3.10/dist-packages (from nbconvert>=5->notebook==6.5.5->google-colab) (6.1.0)\n",
      "Requirement already satisfied: defusedxml in /usr/local/lib/python3.10/dist-packages (from nbconvert>=5->notebook==6.5.5->google-colab) (0.7.1)\n",
      "Requirement already satisfied: entrypoints>=0.2.2 in /usr/local/lib/python3.10/dist-packages (from nbconvert>=5->notebook==6.5.5->google-colab) (0.4)\n",
      "Requirement already satisfied: jupyterlab-pygments in /usr/local/lib/python3.10/dist-packages (from nbconvert>=5->notebook==6.5.5->google-colab) (0.3.0)\n",
      "Requirement already satisfied: MarkupSafe>=2.0 in /usr/local/lib/python3.10/dist-packages (from nbconvert>=5->notebook==6.5.5->google-colab) (2.1.5)\n",
      "Requirement already satisfied: mistune<2,>=0.8.1 in /usr/local/lib/python3.10/dist-packages (from nbconvert>=5->notebook==6.5.5->google-colab) (0.8.4)\n",
      "Requirement already satisfied: nbclient>=0.5.0 in /usr/local/lib/python3.10/dist-packages (from nbconvert>=5->notebook==6.5.5->google-colab) (0.9.0)\n",
      "Requirement already satisfied: packaging in /usr/local/lib/python3.10/dist-packages (from nbconvert>=5->notebook==6.5.5->google-colab) (23.2)\n",
      "Requirement already satisfied: pandocfilters>=1.4.1 in /usr/local/lib/python3.10/dist-packages (from nbconvert>=5->notebook==6.5.5->google-colab) (1.5.1)\n",
      "Requirement already satisfied: tinycss2 in /usr/local/lib/python3.10/dist-packages (from nbconvert>=5->notebook==6.5.5->google-colab) (1.2.1)\n",
      "Requirement already satisfied: fastjsonschema in /usr/local/lib/python3.10/dist-packages (from nbformat->notebook==6.5.5->google-colab) (2.19.1)\n",
      "Requirement already satisfied: jsonschema>=2.6 in /usr/local/lib/python3.10/dist-packages (from nbformat->notebook==6.5.5->google-colab) (4.19.2)\n",
      "Requirement already satisfied: ptyprocess>=0.5 in /usr/local/lib/python3.10/dist-packages (from pexpect>4.3->ipython==7.34.0->google-colab) (0.7.0)\n",
      "Requirement already satisfied: wcwidth in /usr/local/lib/python3.10/dist-packages (from prompt-toolkit!=3.0.0,!=3.0.1,<3.1.0,>=2.0.0->ipython==7.34.0->google-colab) (0.2.13)\n",
      "Requirement already satisfied: pyasn1<0.6.0,>=0.4.6 in /usr/local/lib/python3.10/dist-packages (from pyasn1-modules>=0.2.1->google-auth==2.27.0->google-colab) (0.5.1)\n",
      "Requirement already satisfied: six>=1.5 in /usr/local/lib/python3.10/dist-packages (from python-dateutil>=2.8.1->pandas==1.5.3->google-colab) (1.16.0)\n",
      "Requirement already satisfied: argon2-cffi-bindings in /usr/local/lib/python3.10/dist-packages (from argon2-cffi->notebook==6.5.5->google-colab) (21.2.0)\n",
      "Requirement already satisfied: attrs>=22.2.0 in /usr/local/lib/python3.10/dist-packages (from jsonschema>=2.6->nbformat->notebook==6.5.5->google-colab) (23.2.0)\n",
      "Requirement already satisfied: jsonschema-specifications>=2023.03.6 in /usr/local/lib/python3.10/dist-packages (from jsonschema>=2.6->nbformat->notebook==6.5.5->google-colab) (2023.12.1)\n",
      "Requirement already satisfied: referencing>=0.28.4 in /usr/local/lib/python3.10/dist-packages (from jsonschema>=2.6->nbformat->notebook==6.5.5->google-colab) (0.33.0)\n",
      "Requirement already satisfied: rpds-py>=0.7.1 in /usr/local/lib/python3.10/dist-packages (from jsonschema>=2.6->nbformat->notebook==6.5.5->google-colab) (0.18.0)\n",
      "Requirement already satisfied: anyio<4,>=3.1.0 in /usr/local/lib/python3.10/dist-packages (from jupyter-server>=1.8->nbclassic>=0.4.7->notebook==6.5.5->google-colab) (3.7.1)\n",
      "Requirement already satisfied: websocket-client in /usr/local/lib/python3.10/dist-packages (from jupyter-server>=1.8->nbclassic>=0.4.7->notebook==6.5.5->google-colab) (1.7.0)\n",
      "Requirement already satisfied: cffi>=1.0.1 in /usr/local/lib/python3.10/dist-packages (from argon2-cffi-bindings->argon2-cffi->notebook==6.5.5->google-colab) (1.16.0)\n",
      "Requirement already satisfied: soupsieve>1.2 in /usr/local/lib/python3.10/dist-packages (from beautifulsoup4->nbconvert>=5->notebook==6.5.5->google-colab) (2.5)\n",
      "Requirement already satisfied: webencodings in /usr/local/lib/python3.10/dist-packages (from bleach->nbconvert>=5->notebook==6.5.5->google-colab) (0.5.1)\n",
      "Requirement already satisfied: sniffio>=1.1 in /usr/local/lib/python3.10/dist-packages (from anyio<4,>=3.1.0->jupyter-server>=1.8->nbclassic>=0.4.7->notebook==6.5.5->google-colab) (1.3.0)\n",
      "Requirement already satisfied: exceptiongroup in /usr/local/lib/python3.10/dist-packages (from anyio<4,>=3.1.0->jupyter-server>=1.8->nbclassic>=0.4.7->notebook==6.5.5->google-colab) (1.2.0)\n",
      "Requirement already satisfied: pycparser in /usr/local/lib/python3.10/dist-packages (from cffi>=1.0.1->argon2-cffi-bindings->argon2-cffi->notebook==6.5.5->google-colab) (2.21)\n",
      "Installing collected packages: jedi\n",
      "Successfully installed jedi-0.19.1\n"
     ]
    }
   ],
   "source": [
    "!pip install azure-ai-formrecognizer\n",
    "!pip install google-colab"
   ]
  },
  {
   "cell_type": "code",
   "execution_count": null,
   "metadata": {
    "id": "AXwQUX1f_5QD"
   },
   "outputs": [],
   "source": [
    "from azure.ai.formrecognizer import FormRecognizerClient\n",
    "from azure.core.credentials import AzureKeyCredential\n",
    "import re"
   ]
  },
  {
   "cell_type": "code",
   "execution_count": null,
   "metadata": {
    "id": "KEBpKXsx_6Og"
   },
   "outputs": [],
   "source": [
    "def invoice_reader(pdf_path):\n",
    "  endpoint = \"https://idpcustomstest.cognitiveservices.azure.com/\"\n",
    "  key = \"df758a658ccf464690f4071453f06374\"\n",
    "  form_recognizer_client = FormRecognizerClient(endpoint, AzureKeyCredential(key))\n",
    "\n",
    "  # Get the PDF path from the uploaded files\n",
    "\n",
    "  # Analyze the PDF document\n",
    "  with open(pdf_path, \"rb\") as pdf_file:\n",
    "      poller = form_recognizer_client.begin_recognize_invoices(pdf_file)\n",
    "      result = poller.result()\n",
    "  return result"
   ]
  },
  {
   "cell_type": "code",
   "execution_count": null,
   "metadata": {
    "id": "IbvNVClp_9gP"
   },
   "outputs": [],
   "source": [
    "pdf_path = \"/content/SICSY2309001500 - CI.pdf\"\n",
    "raw_form = invoice_reader(pdf_path)"
   ]
  },
  {
   "cell_type": "code",
   "execution_count": null,
   "metadata": {
    "colab": {
     "base_uri": "https://localhost:8080/"
    },
    "executionInfo": {
     "elapsed": 19,
     "status": "ok",
     "timestamp": 1708711346627,
     "user": {
      "displayName": "Kush Motwani",
      "userId": "15787970395115211373"
     },
     "user_tz": -330
    },
    "id": "yL6Z-lsNGBYz",
    "outputId": "ea1c953c-f1cb-4de3-860c-c927d9eb7f42"
   },
   "outputs": [
    {
     "name": "stdout",
     "output_type": "stream",
     "text": [
      "[RecognizedForm(form_type=prebuilt:invoice, fields={'CustomerAddress': FormField(value_type=string, label_data=None, value_data=FieldData(page_number=1, text=180, Serangoon Rd, Singapore 218057, bounding_box=[Point(x=0.3302, y=1.9289), Point(x=1.656, y=1.9289), Point(x=1.656, y=2.2861), Point(x=0.3302, y=2.2861)], field_elements=None), name=CustomerAddress, value='180, Serangoon Rd, Singapore 218057', confidence=0.945), 'CustomerAddressRecipient': FormField(value_type=string, label_data=None, value_data=FieldData(page_number=1, text=ASIAN ARTS CRAFTS, bounding_box=[Point(x=0.3268, y=1.7214), Point(x=1.7001, y=1.7214), Point(x=1.7001, y=1.8317), Point(x=0.3268, y=1.8317)], field_elements=None), name=CustomerAddressRecipient, value='ASIAN ARTS CRAFTS', confidence=0.946), 'CustomerName': FormField(value_type=string, label_data=None, value_data=FieldData(page_number=1, text=ASIAN ARTS CRAFTS, bounding_box=[Point(x=0.3268, y=1.7214), Point(x=1.7001, y=1.7214), Point(x=1.7001, y=1.8317), Point(x=0.3268, y=1.8317)], ]\n"
     ]
    }
   ],
   "source": [
    "print(raw_form)"
   ]
  },
  {
   "cell_type": "code",
   "execution_count": null,
   "metadata": {
    "id": "w9FfbV01__mW"
   },
   "outputs": [],
   "source": [
    "import pandas as pd\n",
    "\n",
    "\n",
    "def invoice_result_parser_for_top_fields(result):\n",
    "  # Initialize an empty list to store the name and value pairs\n",
    "  name_value_pairs = []\n",
    "  dict_result = [page.to_dict() for page in result]\n",
    "\n",
    "  # Iterate over the dictionary d\n",
    "  for page_data in dict_result:\n",
    "      fields = page_data['fields']\n",
    "      for field_name, field_data in fields.items():\n",
    "          name_value_pairs.append({'Name': field_name, 'Value': field_data['value']})\n",
    "\n",
    "  # Create a DataFrame from the list of name and value pairs\n",
    "  df = pd.DataFrame(name_value_pairs)\n",
    "  df_json = json.loads(df.to_json(orient=\"records\"))\n",
    "\n",
    "  # Remove the \"Items\" row from the JSON data\n",
    "  for i in range(len(df_json)):\n",
    "      if df_json[i][\"Name\"] == \"Items\":\n",
    "          del df_json[i]\n",
    "          break\n",
    "\n",
    "  # Convert the modified JSON data to a dictionary with \"Name\" as key and \"Value\" as value\n",
    "  df_dict = {item[\"Name\"]: item[\"Value\"] for item in df_json}\n",
    "  return df_dict"
   ]
  },
  {
   "cell_type": "code",
   "execution_count": null,
   "metadata": {
    "colab": {
     "base_uri": "https://localhost:8080/"
    },
    "executionInfo": {
     "elapsed": 4,
     "status": "ok",
     "timestamp": 1708711346627,
     "user": {
      "displayName": "Kush Motwani",
      "userId": "15787970395115211373"
     },
     "user_tz": -330
    },
    "id": "af-_QJQdAFhy",
    "outputId": "aeb10a0c-665c-4cc4-bf46-0e07dc0a9b76"
   },
   "outputs": [
    {
     "name": "stdout",
     "output_type": "stream",
     "text": [
      "{'CustomerAddress': '180, Serangoon Rd, Singapore 218057', 'CustomerAddressRecipient': 'ASIAN ARTS CRAFTS', 'CustomerName': 'ASIAN ARTS CRAFTS', 'InvoiceDate': None, 'InvoiceId': 'DT', 'ServiceEndDate': 1688774400000, 'VendorAddress': '1240, CHAH RAHAT, GALI GULIAN DELHI 110006 (INDIA)', 'VendorAddressRecipient': 'DIGAMBER EXPORTS', 'VendorName': 'DIGAMBER EXPORTS'}\n"
     ]
    }
   ],
   "source": [
    "import json\n",
    "top_part_of_invoice = invoice_result_parser_for_top_fields(raw_form)\n",
    "print(top_part_of_invoice)"
   ]
  },
  {
   "cell_type": "code",
   "execution_count": null,
   "metadata": {
    "id": "Rm25r0uxAHX0"
   },
   "outputs": [],
   "source": [
    "import pickle\n",
    "import pandas as pd\n",
    "\n",
    "\n",
    "def rename_product_code_to_hsn(df):\n",
    "    \"\"\"\n",
    "    Renames the 'PRODUCT CODE' column to 'HSN CODE' if more than 30% of its values match the given HS codes.\n",
    "\n",
    "    Parameters:\n",
    "    - df (pd.DataFrame): The DataFrame containing the 'PRODUCT CODE' column.\n",
    "    - hs_codes_df (pd.DataFrame): The DataFrame containing the HS codes to compare against.\n",
    "\n",
    "    Returns:\n",
    "    - pd.DataFrame: The modified DataFrame with the column name possibly changed.\n",
    "    \"\"\"\n",
    "\n",
    "    with open(\"/content/HSCODE.pkl\", \"rb\") as f:\n",
    "        hs_codes = pickle.load(f)\n",
    "\n",
    "    # Convert the pickle data to a DataFrame, assuming hs_codes is a list or similar iterable\n",
    "    hs_codes_df = pd.DataFrame(hs_codes, columns=['HS Code'])\n",
    "\n",
    "\n",
    "    # Check if 'PRODUCT CODE' is in the DataFrame\n",
    "    if 'PRODUCT CODE' not in df.columns:\n",
    "        print(\"The DataFrame does not contain a 'PRODUCT CODE' column.\")\n",
    "        return df\n",
    "\n",
    "    # Convert the 'HS CODE' column to a list\n",
    "    hs_codes = hs_codes_df['HS CODE'].tolist()\n",
    "\n",
    "    # Calculate the total number of matches\n",
    "    matches = df['PRODUCT CODE'].isin(hs_codes).sum()\n",
    "\n",
    "    # Calculate the percentage of matches\n",
    "    match_percentage = matches / len(df) * 100\n",
    "\n",
    "    # If more than 30% of 'PRODUCT CODE' values are in hs_codes, rename the column\n",
    "    if match_percentage > 30:\n",
    "        df = df.rename(columns={'PRODUCT CODE': 'HSN CODE'})\n",
    "\n",
    "    return df\n"
   ]
  },
  {
   "cell_type": "code",
   "execution_count": null,
   "metadata": {
    "id": "-9ldcUIyAR4H"
   },
   "outputs": [],
   "source": [
    "def extract_hsn_codes(description):\n",
    "    # Define the regular expression pattern to match \"HS CODE\" followed by any separator\n",
    "    pattern = r'HS\\s*CODE\\s*[:\\-]?\\s*'\n",
    "    # Find all occurrences of the pattern in the description\n",
    "    matches = re.findall(pattern, description)\n",
    "\n",
    "    # Extract the HS codes after each match\n",
    "    hsn_codes = []\n",
    "    for match in matches:\n",
    "        # Find all HS codes after the match (separated by commas or spaces)\n",
    "        hs_codes = re.findall(r'\\d{4,10}', description.split(match, 1)[1])\n",
    "        hsn_codes.extend(hs_codes)\n",
    "\n",
    "    return hsn_codes"
   ]
  },
  {
   "cell_type": "code",
   "execution_count": null,
   "metadata": {
    "id": "a_9UdoFLAWoV"
   },
   "outputs": [],
   "source": [
    "# Assuming 'd' is your list of dictionaries\n",
    "def invoice_result_parser_for_items(result):\n",
    "  data = []\n",
    "  dict_result = [page.to_dict() for page in result]\n",
    "  for page in dict_result:\n",
    "      for item in page['fields']['Items']['value']:\n",
    "          # Extract the values from the nested dictionaries\n",
    "          row = {k: v['value'] for k, v in item['value'].items()}\n",
    "          data.append(row)\n",
    "\n",
    "  # Convert the list of dictionaries into a DataFrame\n",
    "  df = pd.DataFrame(data)\n",
    "  #df['HS CODE'] = df['Description'].apply(extract_hsn_codes)\n",
    "  #if 'PRODUCT CODE' in df.columns:\n",
    "  #  df = rename_product_code_to_hsn(df, hs_codes)\n",
    "  #else:\n",
    "  #  df['HS CODE'] = df['Description'].apply(extract_hsn_codes)\n",
    "  json_object_invoice_tables = df.to_json(orient='records')\n",
    "  return json_object_invoice_tables"
   ]
  },
  {
   "cell_type": "code",
   "execution_count": null,
   "metadata": {
    "colab": {
     "base_uri": "https://localhost:8080/"
    },
    "executionInfo": {
     "elapsed": 3,
     "status": "ok",
     "timestamp": 1708711346627,
     "user": {
      "displayName": "Kush Motwani",
      "userId": "15787970395115211373"
     },
     "user_tz": -330
    },
    "id": "YWAJGNqcBZJD",
    "outputId": "b52df8e2-b06b-40c9-f088-378c9e7e0966"
   },
   "outputs": [
    {
     "name": "stdout",
     "output_type": "stream",
     "text": [
      "[{\"Amount\":11066.76,\"Description\":\"BRASS ASSORTED STATUES\",\"ProductCode\":\"83061000\",\"UnitPrice\":9.0},{\"Amount\":81.12,\"Description\":\"BRASS ITEMS\",\"ProductCode\":\"83061000\",\"UnitPrice\":3.38},{\"Amount\":27.0,\"Description\":\"KADA IMITATION\",\"ProductCode\":\"1404\",\"UnitPrice\":0.27},{\"Amount\":22.8,\"Description\":\"CAR HANGING\",\"ProductCode\":\"6815\",\"UnitPrice\":0.95},{\"Amount\":170.0,\"Description\":\"KADA IMITATION\",\"ProductCode\":\"1404\",\"UnitPrice\":1.7},{\"Amount\":166.8,\"Description\":\"MERU SRI YANTRA\",\"ProductCode\":\"83061000\",\"UnitPrice\":55.6},{\"Amount\":222.48,\"Description\":\"MERU SRI YANTRA\",\"ProductCode\":\"83061000\",\"UnitPrice\":18.54},{\"Amount\":225.12,\"Description\":\"MERU SRI YANTRA\",\"ProductCode\":\"83061000\",\"UnitPrice\":9.38},{\"Amount\":112.8,\"Description\":\"MERU SRI YANTRA\",\"ProductCode\":\"83061000\",\"UnitPrice\":4.7},{\"Amount\":66.0,\"Description\":\"LOCKETS\",\"ProductCode\":\"7117\",\"UnitPrice\":0.66},{\"Amount\":180.0,\"Description\":\"POOJA CHOWKI\",\"ProductCode\":\"74199930\",\"UnitPrice\":30.0},{\"Amount\":135.0,\"Description\":\"POOJA CHOWKI\",\"ProductCode\":\"74199930\",\"UnitPrice\":22.5},{\"Amount\":211.38,\"Description\":\"POOJA CHOWKI\",\"ProductCode\":\"74199930\",\"UnitPrice\":35.23},{\"Amount\":90.0,\"Description\":\"POOJA CHOWKI\",\"ProductCode\":\"74199930\",\"UnitPrice\":15.0},{\"Amount\":112.5,\"Description\":\"BRASS PLATE\",\"ProductCode\":\"83061000\",\"UnitPrice\":37.5},{\"Amount\":191.28,\"Description\":\"POOJA CHOWKI\",\"ProductCode\":\"74199930\",\"UnitPrice\":31.88},{\"Amount\":168.78,\"Description\":\"POOJA CHOWKI\",\"ProductCode\":\"74199930\",\"UnitPrice\":28.13},{\"Amount\":19.0,\"Description\":\"BRASS ITEMS\",\"ProductCode\":\"83061000\",\"UnitPrice\":0.38},{\"Amount\":54.0,\"Description\":\"METAL ITEM (SWASTIK)\",\"ProductCode\":\"74181921\",\"UnitPrice\":2.25},{\"Amount\":31.68,\"Description\":\"METAL ITEM (SWASTIK)\",\"ProductCode\":\"74181921\",\"UnitPrice\":1.32},{\"Amount\":123.84,\"Description\":\"METAL ITEM (SWASTIK)\",\"ProductCode\":\"74181921\",\"UnitPrice\":5.16},{\"Amount\":157.56,\"Description\":\"BRASS TEMPLE\",\"ProductCode\":\"83061000\",\"UnitPrice\":13.13},{\"Amount\":18.0,\"Description\":\"BRASS ITEM (TRI SHAKTI)\",\"ProductCode\":\"74181921\",\"UnitPrice\":0.75},{\"Amount\":49.68,\"Description\":\"BRASS ITEM (TRI SHAKTI)\",\"ProductCode\":\"74181921\",\"UnitPrice\":2.07},{\"Amount\":45.12,\"Description\":\"COPPER ITEMS\",\"ProductCode\":\"7418\",\"UnitPrice\":1.88},{\"Amount\":31.56,\"Description\":\"COPPER ITEMS\",\"ProductCode\":\"7418\",\"UnitPrice\":2.63},{\"Amount\":155.7,\"Description\":\"BRASS TEMPLE\",\"ProductCode\":\"83061000\",\"UnitPrice\":25.95},{\"Amount\":54.0,\"Description\":\"BRASS ITEMS\",\"ProductCode\":\"83061000\",\"UnitPrice\":2.25},{\"Amount\":18.0,\"Description\":\"BRASS ITEMS\",\"ProductCode\":\"83061000\",\"UnitPrice\":1.5},{\"Amount\":27.0,\"Description\":\"COPPER ITEMS\",\"ProductCode\":\"7418\",\"UnitPrice\":2.25},{\"Amount\":112.56,\"Description\":\"COPPER ITEMS\",\"ProductCode\":\"7418\",\"UnitPrice\":9.38},{\"Amount\":185.76,\"Description\":\"ZINC PYRAMID\",\"ProductCode\":\"83061000\",\"UnitPrice\":10.32},{\"Amount\":202.68,\"Description\":\"ZINC PYRAMID\",\"ProductCode\":\"83061000\",\"UnitPrice\":5.63},{\"Amount\":834.0,\"Description\":\"POOJA CHOWKI\",\"ProductCode\":\"74199930\",\"UnitPrice\":139.0},{\"Amount\":66.0,\"Description\":\"ZINC PYRAMID\",\"ProductCode\":\"83061000\",\"UnitPrice\":1.32},{\"Amount\":58.56,\"Description\":\"COPPER ITEMS\",\"ProductCode\":\"7418\",\"UnitPrice\":4.88},{\"Amount\":33.84,\"Description\":\"COPPER ITEMS\",\"ProductCode\":\"7418\",\"UnitPrice\":2.82},{\"Amount\":18.0,\"Description\":\"CAR HANGING\",\"ProductCode\":\"6815\",\"UnitPrice\":0.75},{\"Amount\":99.12,\"Description\":\"STATUE STAND\",\"ProductCode\":\"83061000\",\"UnitPrice\":4.13},{\"Amount\":2116.75,\"Description\":\"METAL STATUERY\",\"ProductCode\":\"97030010\",\"UnitPrice\":84.67},{\"Amount\":28.08,\"Description\":\"CAR HANGING\",\"ProductCode\":\"6815\",\"UnitPrice\":2.34},{\"Amount\":187.5,\"Description\":\"ZINC PYRAMID\",\"ProductCode\":\"83061000\",\"UnitPrice\":3.75},{\"Amount\":67.56,\"Description\":\"STATUE STAND\",\"ProductCode\":\"83061000\",\"UnitPrice\":5.63},{\"Amount\":112.56,\"Description\":\"BRASS TEMPLE\",\"ProductCode\":\"83061000\",\"UnitPrice\":9.38},{\"Amount\":67.56,\"Description\":\"COPPER ITEMS\",\"ProductCode\":\"7418\",\"UnitPrice\":5.63},{\"Amount\":265.5,\"Description\":\"RUDRAKSH BEADS 01 FACES\",\"ProductCode\":\"1404\",\"UnitPrice\":88.5},{\"Amount\":22.5,\"Description\":\"RUDRAKSH 2 FACES SUPER\",\"ProductCode\":\"1404\",\"UnitPrice\":3.75},{\"Amount\":28.2,\"Description\":\"RUDRAKSH 3 FACES SUPER\",\"ProductCode\":\"1404\",\"UnitPrice\":4.7},{\"Amount\":11.4,\"Description\":\"RUDRAKSH 5 FACES SUPER\",\"ProductCode\":\"1404\",\"UnitPrice\":0.95},{\"Amount\":5.7,\"Description\":\"RUDRAKSH 6 FACES SUPER\",\"ProductCode\":\"1404\",\"UnitPrice\":0.95},{\"Amount\":45.12,\"Description\":\"RUDRAKSH 7 FACES SUPER\",\"ProductCode\":\"1404\",\"UnitPrice\":1.88},{\"Amount\":289.08,\"Description\":\"RUDRAKSH 8 FACES\",\"ProductCode\":\"1404\",\"UnitPrice\":24.09},{\"Amount\":300.0,\"Description\":\"RUDRAKSH 9 FACES\",\"ProductCode\":\"1404\",\"UnitPrice\":25.0},{\"Amount\":300.0,\"Description\":\"RUDRAKSH 10 FACES\",\"ProductCode\":\"1404\",\"UnitPrice\":25.0},{\"Amount\":150.0,\"Description\":\"RUDRAKSH 11 FACES\",\"ProductCode\":\"1404\",\"UnitPrice\":25.0},{\"Amount\":210.0,\"Description\":\"RUDRAKSH 12 FACES\",\"ProductCode\":\"1404\",\"UnitPrice\":35.0},{\"Amount\":375.0,\"Description\":\"SPATIK ITEMS\",\"ProductCode\":\"7106\",\"UnitPrice\":37.5},{\"Amount\":681.75,\"Description\":\"SPATIK ITEMS\",\"ProductCode\":\"7106\",\"UnitPrice\":56.25},{\"Amount\":381.64,\"Description\":\"SPATIK ITEMS\",\"ProductCode\":\"7106\",\"UnitPrice\":37.5},{\"Amount\":404.1,\"Description\":\"SPATIK ITEMS\",\"ProductCode\":\"7106\",\"UnitPrice\":37.5},{\"Amount\":27.0,\"Description\":\"LOCKETS (DOZEN)\",\"ProductCode\":\"7117\",\"UnitPrice\":2.25},{\"Amount\":84.0,\"Description\":\"COCONUT BEADS\",\"ProductCode\":\"0801\",\"UnitPrice\":0.07},{\"Amount\":1450.69,\"Description\":\"BRASS PRAYER ITEMS MIX\",\"ProductCode\":\"7419\",\"UnitPrice\":11.25},{\"Amount\":306.4,\"Description\":\"BRASS MUSICAL MAN\",\"ProductCode\":\"83061000\",\"UnitPrice\":13.15},{\"Amount\":306.13,\"Description\":\"BRASS MUSICAL MAN\",\"ProductCode\":\"83061000\",\"UnitPrice\":13.15},{\"Amount\":312.26,\"Description\":\"BRASS MUSICAL MAN\",\"ProductCode\":\"83061000\",\"UnitPrice\":13.12},{\"Amount\":170.56,\"Description\":\"BRASS MUSICAL MAN\",\"ProductCode\":\"83061000\",\"UnitPrice\":13.12},{\"Amount\":146.16,\"Description\":\"BRASS DHANVANTRI\",\"ProductCode\":\"83061000\",\"UnitPrice\":13.12},{\"Amount\":114.93,\"Description\":\"BRASS DURGA\",\"ProductCode\":\"83061000\",\"UnitPrice\":13.12},{\"Amount\":67.7,\"Description\":\"BRASS GANESHA + LAKSHMIJI\",\"ProductCode\":\"83061000\",\"UnitPrice\":13.12},{\"Amount\":13.78,\"Description\":\"BRASS TREE GANESHA\",\"ProductCode\":\"83061000\",\"UnitPrice\":13.12},{\"Amount\":51.55,\"Description\":\"BRASS MUSIC MAN\",\"ProductCode\":\"83061000\",\"UnitPrice\":13.15},{\"Amount\":442.76,\"Description\":\"BRASS TRUNK + BASE + BELL\",\"ProductCode\":\"83061000\",\"UnitPrice\":13.15},{\"Amount\":377.41,\"Description\":\"BRASS HANUMAN\",\"ProductCode\":\"83061000\",\"UnitPrice\":13.15},{\"Amount\":251.95,\"Description\":\"BRASS NAAG KANYA WALL HANGING\",\"ProductCode\":\"83061000\",\"UnitPrice\":13.15},{\"Amount\":170.69,\"Description\":\"BRASS MUSICAL MAN\",\"ProductCode\":\"83061000\",\"UnitPrice\":13.15},{\"Amount\":270.63,\"Description\":\"BRASS LION SITTING\",\"ProductCode\":\"83061000\",\"UnitPrice\":13.15}]\n"
     ]
    }
   ],
   "source": [
    "item_part_of_invoice = invoice_result_parser_for_items(raw_form)\n",
    "print(item_part_of_invoice)"
   ]
  },
  {
   "cell_type": "code",
   "execution_count": null,
   "metadata": {
    "id": "_0XS3yxi8QSi"
   },
   "outputs": [],
   "source": [
    "# Our JSON data\n",
    "json_data = item_part_of_invoice\n",
    "\n",
    "# Parse JSON\n",
    "data = json.loads(json_data)\n",
    "\n",
    "# Function to find numbers with min 4 and max 10 characters in a string\n",
    "def find_numbers(text):\n",
    "    numbers = re.findall(r'\\b\\d{4,10}\\b', str(text))  # \\b ensures exact number of digits\n",
    "    return numbers\n",
    "\n",
    "# Iterate over each item\n",
    "for item in data:\n",
    "    # Find numbers in each field except \"Amount\"\n",
    "    numbers = []\n",
    "    for key, value in item.items():\n",
    "        if key != \"Amount\":\n",
    "            numbers.extend(find_numbers(value))\n",
    "\n",
    "    # Convert the found numbers to a single string\n",
    "    hsn_code = ' '.join(numbers)\n",
    "\n",
    "    # Add HSN code to the item if numbers are found\n",
    "    if hsn_code:\n",
    "        item[\"HSN Code\"] = hsn_code\n",
    "\n",
    "# Convert back to JSON\n",
    "result_json = json.dumps(data, indent=4)\n",
    "\n",
    "print(result_json)"
   ]
  },
  {
   "cell_type": "code",
   "execution_count": null,
   "metadata": {
    "colab": {
     "base_uri": "https://localhost:8080/"
    },
    "executionInfo": {
     "elapsed": 408,
     "status": "ok",
     "timestamp": 1708710939459,
     "user": {
      "displayName": "Kush Motwani",
      "userId": "15787970395115211373"
     },
     "user_tz": -330
    },
    "id": "dxdZJSeRG66t",
    "outputId": "a4f19709-86f7-47b7-a1e6-bc723911fdf2"
   },
   "outputs": [
    {
     "name": "stdout",
     "output_type": "stream",
     "text": [
      "[RecognizedForm(form_type=prebuilt:invoice, fields={'CustomerAddress': FormField(value_type=string, label_data=None, value_data=FieldData(page_number=2, text=HARYANA 123501, bounding_box=[Point(x=1.1053, y=1.4963), Point(x=2.684, y=1.4963), Point(x=2.684, y=1.6023), Point(x=1.1053, y=1.6023)], field_elements=None), name=CustomerAddress, value='HARYANA 123501', confidence=0.946), 'CustomerAddressRecipient': FormField(value_type=string, label_data=None, value_data=FieldData(page_number=2, text=DENSO TEN MINDA INDIA PRIVATE LIMITED PLOT NO.383 INDUSTRIAL GRWOTH CENTRE, PHASE-2, SECTOR-3, BAWAL DISTT.REWARI, bounding_box=[Point(x=1.1057, y=0.8533), Point(x=4.7942, y=0.8533), Point(x=4.7942, y=1.4532), Point(x=1.1057, y=1.4532)], field_elements=None), name=CustomerAddressRecipient, value='DENSO TEN MINDA INDIA PRIVATE LIMITED PLOT NO.383 INDUSTRIAL GRWOTH CENTRE, PHASE-2, SECTOR-3, BAWAL DISTT.REWARI', confidence=0.868), 'CustomerId': FormField(value_type=string, label_data=None, value_data=FieldData(page_number=1,]\n"
     ]
    }
   ],
   "source": [
    "print(r)"
   ]
  },
  {
   "cell_type": "code",
   "execution_count": null,
   "metadata": {
    "id": "YOkQWL_d8N-V"
   },
   "outputs": [],
   "source": []
  }
 ],
 "metadata": {
  "colab": {
   "provenance": [
    {
     "file_id": "1Pg9L0NgfYiUeVP95XeHne7F6luT8IZFe",
     "timestamp": 1708759395851
    }
   ]
  },
  "kernelspec": {
   "display_name": "Python 3",
   "name": "python3"
  },
  "language_info": {
   "name": "python"
  }
 },
 "nbformat": 4,
 "nbformat_minor": 0
}
