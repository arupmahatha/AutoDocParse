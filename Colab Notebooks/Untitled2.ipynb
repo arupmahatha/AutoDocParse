{
 "cells": [
  {
   "cell_type": "code",
   "execution_count": 1,
   "metadata": {
    "colab": {
     "base_uri": "https://localhost:8080/",
     "height": 216
    },
    "executionInfo": {
     "elapsed": 9,
     "status": "error",
     "timestamp": 1710830261325,
     "user": {
      "displayName": "Arup Mahatha",
      "userId": "11608328961507370140"
     },
     "user_tz": -330
    },
    "id": "cJA_oe9fbbmU",
    "outputId": "b8e53b1f-c4b3-49a9-abb1-cdcce5e31bb6"
   },
   "outputs": [
    {
     "ename": "IndexError",
     "evalue": "list index out of range",
     "output_type": "error",
     "traceback": [
      "\u001b[0;31m---------------------------------------------------------------------------\u001b[0m",
      "\u001b[0;31mIndexError\u001b[0m                                Traceback (most recent call last)",
      "\u001b[0;32m<ipython-input-1-02908046b423>\u001b[0m in \u001b[0;36m<cell line: 44>\u001b[0;34m()\u001b[0m\n\u001b[1;32m     43\u001b[0m \u001b[0mproduct_to_hscode\u001b[0m \u001b[0;34m=\u001b[0m \u001b[0;34m{\u001b[0m\u001b[0;34m}\u001b[0m\u001b[0;34m\u001b[0m\u001b[0;34m\u001b[0m\u001b[0m\n\u001b[1;32m     44\u001b[0m \u001b[0;32mfor\u001b[0m \u001b[0midx\u001b[0m\u001b[0;34m,\u001b[0m \u001b[0mcode\u001b[0m \u001b[0;32min\u001b[0m \u001b[0menumerate\u001b[0m\u001b[0;34m(\u001b[0m\u001b[0mjson_data\u001b[0m\u001b[0;34m)\u001b[0m\u001b[0;34m:\u001b[0m\u001b[0;34m\u001b[0m\u001b[0;34m\u001b[0m\u001b[0m\n\u001b[0;32m---> 45\u001b[0;31m     \u001b[0mproduct_to_hscode\u001b[0m\u001b[0;34m[\u001b[0m\u001b[0mcode\u001b[0m\u001b[0;34m[\u001b[0m\u001b[0;34m\"ProductCode\"\u001b[0m\u001b[0;34m]\u001b[0m\u001b[0;34m]\u001b[0m \u001b[0;34m=\u001b[0m \u001b[0mhs_codes\u001b[0m\u001b[0;34m[\u001b[0m\u001b[0midx\u001b[0m\u001b[0;34m]\u001b[0m\u001b[0;34m[\u001b[0m\u001b[0;36m1\u001b[0m\u001b[0;34m]\u001b[0m\u001b[0;34m\u001b[0m\u001b[0;34m\u001b[0m\u001b[0m\n\u001b[0m\u001b[1;32m     46\u001b[0m \u001b[0;34m\u001b[0m\u001b[0m\n\u001b[1;32m     47\u001b[0m \u001b[0;31m# Update the HS Codes in the JSON data\u001b[0m\u001b[0;34m\u001b[0m\u001b[0;34m\u001b[0m\u001b[0m\n",
      "\u001b[0;31mIndexError\u001b[0m: list index out of range"
     ]
    }
   ],
   "source": [
    "import re\n",
    "\n",
    "# Provided invoice data\n",
    "invoice_data = inv1raw['analyzeResult']['content']\n",
    "\n",
    "# JSON data\n",
    "json_data = inv1\n",
    "\n",
    "# Search for Product Codes in the invoice data\n",
    "product_codes = [item['ProductCode'].split('\\n')[0] for item in json_data]\n",
    "\n",
    "# Initialize dictionary to store product code to HS Code mapping\n",
    "product_to_hscode = {}\n",
    "\n",
    "# Search for HS Codes following the Product Codes in the invoice data\n",
    "for product_code in product_codes:\n",
    "    # Search for the product code in the invoice data\n",
    "    product_index = invoice_data.find(product_code)\n",
    "    if product_index != -1:\n",
    "        # Find the next occurrence of HS Code after the product code\n",
    "        hs_code_match = re.search(r'(?:HS Code|HS)\\s*\\n(\\d+)', invoice_data[product_index:])\n",
    "        if hs_code_match:\n",
    "            # Extract the HS Code\n",
    "            hs_code = hs_code_match.group(1)\n",
    "            # Map the product code to the HS Code\n",
    "            product_to_hscode[product_code] = hs_code\n",
    "\n",
    "# Update the HS Codes in the JSON data\n",
    "for item in json_data:\n",
    "    product_code = item['ProductCode'].split('\\n')[0]\n",
    "    if product_code in product_to_hscode:\n",
    "        item['HS Code'] = product_to_hscode[product_code]\n",
    "\n",
    "# Print updated JSON data\n",
    "for item in json_data:\n",
    "    print(\"Product Code:\", item['ProductCode'])\n",
    "    print(\"HS Code:\", item.get('HS Code', 'Not Found'))\n",
    "    print()\n"
   ]
  },
  {
   "cell_type": "code",
   "execution_count": null,
   "metadata": {
    "id": "TR8xHz7Nbe3K"
   },
   "outputs": [],
   "source": []
  }
 ],
 "metadata": {
  "colab": {
   "authorship_tag": "ABX9TyOjCCoGtBNzNGqIyUTAyczG",
   "provenance": []
  },
  "kernelspec": {
   "display_name": "Python 3",
   "name": "python3"
  },
  "language_info": {
   "name": "python"
  }
 },
 "nbformat": 4,
 "nbformat_minor": 0
}
