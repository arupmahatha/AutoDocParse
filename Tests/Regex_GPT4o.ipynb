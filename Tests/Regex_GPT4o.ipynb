{
 "cells": [
  {
   "cell_type": "code",
   "execution_count": null,
   "metadata": {
    "colab": {
     "base_uri": "https://localhost:8080/"
    },
    "executionInfo": {
     "elapsed": 11500,
     "status": "ok",
     "timestamp": 1716385224176,
     "user": {
      "displayName": "Arup Mahatha",
      "userId": "12928618471012137919"
     },
     "user_tz": -330
    },
    "id": "-mXkjhMdQ9LE",
    "outputId": "b1fe1770-aece-4fb6-dd77-7e4ce68f4909"
   },
   "outputs": [
    {
     "name": "stdout",
     "output_type": "stream",
     "text": [
      "Drive already mounted at /content/drive; to attempt to forcibly remount, call drive.mount(\"/content/drive\", force_remount=True).\n"
     ]
    }
   ],
   "source": [
    "from google.colab import drive\n",
    "drive.mount('/content/drive')"
   ]
  },
  {
   "cell_type": "code",
   "execution_count": null,
   "metadata": {
    "colab": {
     "base_uri": "https://localhost:8080/"
    },
    "executionInfo": {
     "elapsed": 40263,
     "status": "ok",
     "timestamp": 1716387599880,
     "user": {
      "displayName": "Arup Mahatha",
      "userId": "12928618471012137919"
     },
     "user_tz": -330
    },
    "id": "Z9eCjDSLWIEa",
    "outputId": "1c24f85b-d810-4ba5-eeea-1805ab5b9094"
   },
   "outputs": [
    {
     "name": "stdout",
     "output_type": "stream",
     "text": [
      "air waybill\n",
      "air waybill\n",
      "air waybill\n",
      "invoice\n",
      "packaging list\n",
      "invoice\n",
      "invoice\n",
      "invoice\n",
      "invoice\n",
      "invoice\n",
      "packaging list\n",
      "packaging list\n",
      "packaging list\n",
      "packaging list\n",
      "packaging list\n",
      "bill of lading\n",
      "bill of lading\n",
      "invoice: 2\n",
      "packaging list: 2\n",
      "air waybill: 1\n",
      "bill of lading: 1\n"
     ]
    }
   ],
   "source": [
    "import fitz  # PyMuPDF\n",
    "import pandas as pd\n",
    "import openai\n",
    "from PIL import Image\n",
    "from io import BytesIO\n",
    "import base64\n",
    "\n",
    "# Set up the OpenAI client\n",
    "client = openai.OpenAI(api_key=\"\")\n",
    "\n",
    "# Model name\n",
    "MODEL = \"gpt-4o\"\n",
    "\n",
    "# Function to convert a PDF page to an image\n",
    "def extract_image_from_pdf_page(page):\n",
    "    pix = page.get_pixmap()\n",
    "    img = Image.frombytes(\"RGB\", [pix.width, pix.height], pix.samples)\n",
    "    return img\n",
    "\n",
    "# Function to classify the document using GPT-4 without vision capabilities\n",
    "def classify_document(image):\n",
    "    buffered = BytesIO()\n",
    "    image.save(buffered, format=\"PNG\")\n",
    "    buffered.seek(0)\n",
    "    base64_image = base64.b64encode(buffered.getvalue()).decode('utf-8')\n",
    "\n",
    "    response = client.chat.completions.create(\n",
    "        model=MODEL,\n",
    "        messages=[\n",
    "            {\"role\": \"system\", \"content\": \"You are a helpful assistant that classifies document images. Your task is to categorize each document page image into one of the specified categories.\"},\n",
    "            {\"role\": \"user\", \"content\": [\n",
    "                {\"type\": \"text\", \"text\": \"Classify this document page image into one of the following categories: permit, air waybill, bill of lading, invoice, packaging list, unknown. Just output the type and nothing else.\"},\n",
    "                {\"type\": \"image_url\", \"image_url\": {\"url\": f\"data:image/png;base64,{base64_image}\"}}\n",
    "            ]}\n",
    "        ],\n",
    "        temperature=0.0,\n",
    "    )\n",
    "\n",
    "    classification = response.choices[0].message.content\n",
    "    print(classification)  # to see\n",
    "    return classification\n",
    "\n",
    "# Path to the PDF file\n",
    "pdf_file = '/content/Sample.pdf'\n",
    "\n",
    "# List to store classification results\n",
    "results = []\n",
    "\n",
    "# Open the PDF file\n",
    "document = fitz.open(pdf_file)\n",
    "\n",
    "prev_classification = None\n",
    "start_page = 1\n",
    "\n",
    "# Iterate over all pages in the PDF\n",
    "for page_number in range(len(document)):\n",
    "    page = document[page_number]\n",
    "    image = extract_image_from_pdf_page(page)\n",
    "    classification = classify_document(image)\n",
    "\n",
    "    if classification != prev_classification and prev_classification is not None:\n",
    "        results.append((pdf_file, prev_classification, start_page, page_number))\n",
    "        start_page = page_number + 1\n",
    "\n",
    "    prev_classification = classification\n",
    "\n",
    "# Append the last document group\n",
    "results.append((pdf_file, prev_classification, start_page, page_number + 1))\n",
    "\n",
    "# Create a DataFrame and save to CSV\n",
    "df = pd.DataFrame(results, columns=['Filename', 'Document Type', 'Start Page', 'End Page'])\n",
    "df.to_csv('classification_report.csv', index=False)\n",
    "\n",
    "# Print the counts\n",
    "counts = df['Document Type'].value_counts()\n",
    "for category, count in counts.items():\n",
    "    print(f'{category}: {count}')\n"
   ]
  },
  {
   "cell_type": "code",
   "execution_count": null,
   "metadata": {
    "id": "M96-SG4tzHuV"
   },
   "outputs": [],
   "source": []
  },
  {
   "cell_type": "code",
   "execution_count": null,
   "metadata": {
    "id": "fpWhqMQxo3z1"
   },
   "outputs": [],
   "source": []
  }
 ],
 "metadata": {
  "colab": {
   "provenance": []
  },
  "kernelspec": {
   "display_name": "Python 3",
   "language": "python",
   "name": "python3"
  },
  "language_info": {
   "codemirror_mode": {
    "name": "ipython",
    "version": 3
   },
   "file_extension": ".py",
   "mimetype": "text/x-python",
   "name": "python",
   "nbconvert_exporter": "python",
   "pygments_lexer": "ipython3",
   "version": "3.12.0"
  }
 },
 "nbformat": 4,
 "nbformat_minor": 0
}
